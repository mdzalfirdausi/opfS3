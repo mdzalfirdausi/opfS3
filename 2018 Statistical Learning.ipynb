{
 "cells": [
  {
   "cell_type": "code",
   "execution_count": 1,
   "id": "b0ef7141",
   "metadata": {
    "ExecuteTime": {
     "end_time": "2025-01-28T11:23:36.814551Z",
     "start_time": "2025-01-28T11:23:31.649811Z"
    }
   },
   "outputs": [
    {
     "name": "stdout",
     "output_type": "stream",
     "text": [
      "CPU times: total: 3.45 s\n",
      "Wall time: 4.64 s\n"
     ]
    }
   ],
   "source": [
    "%%time\n",
    "from tqdm import tqdm\n",
    "import pandapower as pp\n",
    "import pandas as pd\n",
    "import numpy as np\n",
    "import pandapower.converter as pc\n",
    "from pandapower.pypower.makePTDF import makePTDF\n",
    "import pyomo.environ as pyo\n",
    "from scipy.sparse import lil_matrix\n",
    "from matpowercaseframes import CaseFrames\n",
    "matpowercaseframes_imported = True"
   ]
  },
  {
   "cell_type": "code",
   "execution_count": 2,
   "id": "d58f0956",
   "metadata": {},
   "outputs": [
    {
     "name": "stdout",
     "output_type": "stream",
     "text": [
      "CPU times: total: 18.7 s\n",
      "Wall time: 2.15 s\n"
     ]
    }
   ],
   "source": [
    "%%time\n",
    "mpc_file = 'data\\\\pglib-opf-17.08\\\\pglib_opf_case1888_rte.m'\n",
    "mpc_frames = CaseFrames(mpc_file)\n",
    "ppc = {key: mpc_frames.__getattribute__(key) if not isinstance(\n",
    "    mpc_frames.__getattribute__(key), pd.DataFrame) else mpc_frames.__getattribute__(\n",
    "    key).values for key in mpc_frames._attributes}\n",
    "baseMVA, bus, branch, gen = ppc['baseMVA'], ppc['bus'], ppc['branch'], ppc['gen']\n",
    "bus_index_dict = {}\n",
    "for i, index in enumerate(ppc['bus'][:,0]):\n",
    "    bus_index_dict[index.astype(int)] = i\n",
    "baseMVA,bus,branch = ppc['baseMVA'],ppc['bus'],ppc['branch']\n",
    "for i,bus_name in enumerate(bus[:,0]):\n",
    "    bus[i,0] = bus_index_dict[bus_name]\n",
    "for i,fbus_name in enumerate(branch[:,0]):\n",
    "    branch[i,0] = bus_index_dict[fbus_name]\n",
    "for i,tbus_name in enumerate(branch[:,1]):\n",
    "    branch[i,1] = bus_index_dict[tbus_name]\n",
    "for i,gen_name in enumerate(gen[:,0]):\n",
    "    gen[i,0] = bus_index_dict[gen_name]    \n",
    "gen_index = gen[:,0].astype(int)\n",
    "bus_index = bus[:,0].astype(int)\n",
    "H = lil_matrix((len(bus_index), len(gen_index)), dtype=int)\n",
    "for col, gen_bus in enumerate(gen_index):\n",
    "    H[gen_bus, col] = 1\n",
    "H = H.tocsr()               \n",
    "M = makePTDF(baseMVA, bus, branch)\n",
    "f_max = np.array([rateA for i in range(len(branch)) for j,rateA in enumerate(branch[i]) if j == 5])\n",
    "# f_max = np.array([999999 for i in range(len(branch)) for j,rateA in enumerate(branch[i]) if j == 5])\n",
    "p_init = mpc_frames.gen.PG.values\n",
    "d = mpc_frames.bus.PD.values\n",
    "sigma_scaling = 0.03\n",
    "sigma = (sigma_scaling * d)\n",
    "mean = np.zeros(len(d))\n",
    "covariance_matrix = np.diag(sigma**2)\n",
    "num_samples = 1\n",
    "omega = np.random.multivariate_normal(mean, covariance_matrix, num_samples)\n",
    "gen_lb = mpc_frames.gen.PMIN.values\n",
    "gen_ub = mpc_frames.gen.PMAX.values\n",
    "nbus = len(mpc_frames.bus)\n",
    "nline = len(mpc_frames.branch)\n",
    "cost_coeff = mpc_frames.gencost.loc[:,'COST_2':'COST_0'].values"
   ]
  },
  {
   "cell_type": "code",
   "execution_count": 3,
   "id": "857b3f0c",
   "metadata": {},
   "outputs": [
    {
     "name": "stdout",
     "output_type": "stream",
     "text": [
      "CPU times: total: 17.8 s\n",
      "Wall time: 16.4 s\n"
     ]
    }
   ],
   "source": [
    "%%time\n",
    "# paper model\n",
    "model = pyo.ConcreteModel()\n",
    "# sets\n",
    "ngen = len(gen_index)\n",
    "model.ng = pyo.RangeSet(0, ngen-1)\n",
    "nbus = len(bus_index)\n",
    "model.nb = pyo.RangeSet(0, nbus-1)\n",
    "nline = len(ppc['branch'])\n",
    "model.nl = pyo.RangeSet(0, nline-1)\n",
    "# variables\n",
    "model.p = pyo.Var(model.ng, domain=pyo.Reals, initialize=p_init)\n",
    "model.omega = pyo.Var(model.nb, domain=pyo.Reals)\n",
    "# objective (1a)\n",
    "model.obj = pyo.Objective(expr =\n",
    "                    cost_coeff[:,0].sum() + sum([cost_coeff[:,1][g]*model.p[g] for g in model.ng])\\\n",
    "                    + sum([cost_coeff[:,2][g]*model.p[g] for g in model.ng])\n",
    "                    , sense = pyo.minimize\n",
    ")\n",
    "# constraint (1b) μ is omitted\n",
    "model.c1b = pyo.Constraint(expr =\n",
    "                          sum([model.p[g] for g in model.ng ]) == \n",
    "                           sum([d[b] for b in model.nb]) \n",
    "                           - sum([model.omega[b] for b in model.nb])\n",
    "                          )\n",
    "# constraint (1c)\n",
    "def c1c_lb_rule(model, g):\n",
    "    return gen_lb[g] <= model.p[g]\n",
    "def c1c_ub_rule(model, g):\n",
    "    return gen_ub[g] >= model.p[g]\n",
    "model.c1c_lb = pyo.Constraint(model.ng, rule=c1c_lb_rule)\n",
    "model.c1c_ub = pyo.Constraint(model.ng, rule=c1c_ub_rule)\n",
    "# constraint (1d) μ is omitted\n",
    "flow_expr = M@(H.toarray()@model.p + model.omega - (d))\n",
    "def c1d_lb_rule(model, l):\n",
    "    return -f_max[l] <= flow_expr[l]\n",
    "def c1d_ub_rule(model, l):\n",
    "    return f_max[l] >= flow_expr[l]\n",
    "model.c1d_lb = pyo.Constraint(model.nl, rule=c1d_lb_rule)\n",
    "model.c1d_ub = pyo.Constraint(model.nl, rule=c1d_ub_rule)"
   ]
  },
  {
   "cell_type": "code",
   "execution_count": null,
   "id": "ebd21ad9",
   "metadata": {},
   "outputs": [
    {
     "name": "stderr",
     "output_type": "stream",
     "text": [
      "\r",
      "0it [00:00, ?it/s]"
     ]
    }
   ],
   "source": [
    "%%time\n",
    "solver = pyo.SolverFactory('mosek')\n",
    "obj_dict={}\n",
    "infeasible=0\n",
    "for i, value in tqdm(enumerate(omega)):\n",
    "    for j in model.nb:\n",
    "        model.omega[j].fix(value[j]) #\n",
    "    res = solver.solve(model)\n",
    "    if not res.solver.termination_condition == 'optimal':\n",
    "        infeasible+=1\n",
    "#         log_infeasible_constraints(instance)\n",
    "    obj_dict[i]=pyo.value(model.obj)\n",
    "print(f'C_total=', pyo.value(model.obj), 'infeasible=', infeasible)\n",
    "# for i in instance.p:\n",
    "#     print(f'P{i}=', pyo.value(instance.p[i]))"
   ]
  },
  {
   "cell_type": "code",
   "execution_count": 6,
   "id": "638515d4",
   "metadata": {},
   "outputs": [
    {
     "ename": "SyntaxError",
     "evalue": "invalid syntax (3859781387.py, line 1)",
     "output_type": "error",
     "traceback": [
      "\u001b[1;36m  Cell \u001b[1;32mIn[6], line 1\u001b[1;36m\u001b[0m\n\u001b[1;33m    C_total= 1487402.4983541125 infeasible= 0\u001b[0m\n\u001b[1;37m                                ^\u001b[0m\n\u001b[1;31mSyntaxError\u001b[0m\u001b[1;31m:\u001b[0m invalid syntax\n"
     ]
    }
   ],
   "source": [
    "C_total= 1487402.4983541125 infeasible= 0"
   ]
  },
  {
   "cell_type": "code",
   "execution_count": null,
   "id": "7cc48be3",
   "metadata": {},
   "outputs": [],
   "source": [
    "# from pyomo.util.infeasible import log_infeasible_constraints\n",
    "# import logging\n",
    "# logging.basicConfig(level=logging.INFO)\n",
    "# log_infeasible_constraints(model)"
   ]
  },
  {
   "cell_type": "markdown",
   "id": "87c2acbe",
   "metadata": {},
   "source": [
    "# Learn"
   ]
  },
  {
   "cell_type": "code",
   "execution_count": null,
   "id": "c4106381",
   "metadata": {},
   "outputs": [],
   "source": [
    "# # success:\n",
    "# net = pc.from_mpc(mpc_file)\n",
    "# pp.runpp(net)"
   ]
  },
  {
   "cell_type": "code",
   "execution_count": null,
   "id": "78314fcc",
   "metadata": {},
   "outputs": [],
   "source": [
    "# makeBdc.py\n",
    "\n",
    "# from numpy import ones, zeros_like, r_, pi, flatnonzero as find, real, int64, float64, divide, errstate \n",
    "# from pandapower.pypower.idx_brch import F_BUS, T_BUS, BR_X, TAP, SHIFT, BR_STATUS\n",
    "# from pandapower.pypower.idx_bus import BUS_I\n",
    "# from scipy.sparse import csr_matrix, csc_matrix\n",
    "# try:\n",
    "#     import pandaplan.core.pplog as logging\n",
    "# except ImportError:\n",
    "#     import logging\n",
    "# logger = logging.getLogger(__name__)    "
   ]
  },
  {
   "cell_type": "code",
   "execution_count": null,
   "id": "8a2e879b",
   "metadata": {},
   "outputs": [],
   "source": [
    "# return_csr = True\n",
    "# sparse = csr_matrix if return_csr else csc_matrix\n",
    "# nb = bus.shape[0]          ## number of buses\n",
    "# nl = branch.shape[0]       ## number of lines\n",
    "# stat = real(branch[:, BR_STATUS])  ## ones at in-service branches\n",
    "# br_x = real(branch[:, BR_X])  ## ones at in-service branches\n",
    "# b = zeros_like(stat, dtype=float64)\n",
    "# divide(stat, br_x, out=b, dtype=float64)  ## series susceptance\n",
    "# tap = ones(nl)  ## default tap ratio = 1\n",
    "# i = find(t := real(branch[:, TAP]))  ## indices of non-zero tap ratios\n",
    "# tap[i] = t[i]  ## assign non-zero tap ratios\n",
    "# tap\n",
    "# b = b / tap\n",
    "# ## build connection matrix Cft = Cf - Ct for line and from - to buses\n",
    "# f = real(branch[:, F_BUS]).astype(int64)                           ## list of \"from\" buses\n",
    "# t = real(branch[:, T_BUS]).astype(int64)                           ## list of \"to\" buses\n",
    "# i = r_[range(nl), range(nl)]                   ## double set of row indices"
   ]
  },
  {
   "cell_type": "code",
   "execution_count": null,
   "id": "100a602c",
   "metadata": {},
   "outputs": [],
   "source": [
    "# ## connection matrix\n",
    "# Cft = sparse((r_[ones(nl), -ones(nl)], (i, r_[f, t])), (nl, nb))\n",
    "# ## build Bf such that Bf * Va is the vector of real branch powers injected\n",
    "# ## at each branch's \"from\" bus\n",
    "# Bf = sparse((r_[b, -b], (i, r_[f, t])), (nl, nb))## = spdiags(b, 0, nl, nl) * Cft"
   ]
  }
 ],
 "metadata": {
  "kernelspec": {
   "display_name": "Python 3 (ipykernel)",
   "language": "python",
   "name": "python3"
  },
  "language_info": {
   "codemirror_mode": {
    "name": "ipython",
    "version": 3
   },
   "file_extension": ".py",
   "mimetype": "text/x-python",
   "name": "python",
   "nbconvert_exporter": "python",
   "pygments_lexer": "ipython3",
   "version": "3.11.3"
  }
 },
 "nbformat": 4,
 "nbformat_minor": 5
}
